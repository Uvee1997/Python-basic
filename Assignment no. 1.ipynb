{
 "cells": [
  {
   "cell_type": "raw",
   "id": "cee42f7a",
   "metadata": {},
   "source": [
    "* = operator"
   ]
  },
  {
   "cell_type": "raw",
   "id": "80b31147",
   "metadata": {},
   "source": [
    "'hello' = value"
   ]
  },
  {
   "cell_type": "raw",
   "id": "40a92685",
   "metadata": {},
   "source": [
    "-87.8 = value"
   ]
  },
  {
   "cell_type": "raw",
   "id": "c7b4469e",
   "metadata": {},
   "source": [
    " - = operator"
   ]
  },
  {
   "cell_type": "raw",
   "id": "2606d0b4",
   "metadata": {},
   "source": [
    "/ = operator"
   ]
  },
  {
   "cell_type": "raw",
   "id": "cfa79c8f",
   "metadata": {},
   "source": [
    "+ = operator"
   ]
  },
  {
   "cell_type": "raw",
   "id": "a6931aeb",
   "metadata": {},
   "source": [
    "6 = value"
   ]
  },
  {
   "cell_type": "raw",
   "id": "8c1ca893",
   "metadata": {},
   "source": [
    "Question = what is the difference between string & variable ?\n",
    "Answer = A Variable is a store of information, and a String is a type of information you would store in a Variable.\n",
    "Example = \"x = My name is yuvraj\""
   ]
  },
  {
   "cell_type": "raw",
   "id": "4823089c",
   "metadata": {},
   "source": [
    "a = (\"Describe 3 data type.\")\n",
    "b = (\"1.Integer = Data type that represents some range of mathematical integers\")\n",
    "c = (\"2.Floating value = arithmetic using formulaic representation of real numbers as an approximation to support a trade-off       between range and precision.\")\n",
    "d = (\"3.String = It is sequence of characters\")\n"
   ]
  },
  {
   "cell_type": "raw",
   "id": "a29fbbdd",
   "metadata": {},
   "source": [
    "Question = What is expression made of ? What do all expressions do\n",
    "Answer = An expression is a combination of values, variables, operators, and calls to functions.\n",
    "         All expressions evaluate (that is, reduce) to a single value.\n",
    "          "
   ]
  },
  {
   "cell_type": "code",
   "execution_count": 42,
   "id": "a9869771",
   "metadata": {},
   "outputs": [
    {
     "data": {
      "text/plain": [
       "23"
      ]
     },
     "execution_count": 42,
     "metadata": {},
     "output_type": "execute_result"
    }
   ],
   "source": [
    "bacon = 22\n",
    "bacon + 1"
   ]
  },
  {
   "cell_type": "code",
   "execution_count": 36,
   "id": "a1048db4",
   "metadata": {},
   "outputs": [
    {
     "data": {
      "text/plain": [
       "'spamspamspam'"
      ]
     },
     "execution_count": 36,
     "metadata": {},
     "output_type": "execute_result"
    }
   ],
   "source": [
    "'spam' + 'spamspam'"
   ]
  },
  {
   "cell_type": "code",
   "execution_count": 37,
   "id": "02183f25",
   "metadata": {},
   "outputs": [
    {
     "data": {
      "text/plain": [
       "'spamspamspam'"
      ]
     },
     "execution_count": 37,
     "metadata": {},
     "output_type": "execute_result"
    }
   ],
   "source": [
    "'spam'*3"
   ]
  },
  {
   "cell_type": "raw",
   "id": "3110e69b",
   "metadata": {},
   "source": [
    "This assignment statements, like spam = 10. What is the difference between an expression and a statement?\n",
    "= An expression evaluates to a single value. A statement does not."
   ]
  },
  {
   "cell_type": "raw",
   "id": "9f1757b8",
   "metadata": {},
   "source": [
    "Why is eggs a valid variable name while 100 is invalid ?\n",
    "= Variable names cannot begin with a number."
   ]
  },
  {
   "cell_type": "raw",
   "id": "4d150e5e",
   "metadata": {},
   "source": [
    "What three functions can be used to get the integer, floating-point number, or string\n",
    "version of a value?\n",
    "= int(), float(), str() these three functions are used."
   ]
  },
  {
   "cell_type": "raw",
   "id": "0526c409",
   "metadata": {},
   "source": [
    "Why does this expression cause an error? How can you fix it ?\n",
    "= 99 is an integer, and only strings can be concatenated to other strings with the + operator. \n",
    "  The correct way is I have eaten ' + str(99) + ' burritos.'."
   ]
  }
 ],
 "metadata": {
  "kernelspec": {
   "display_name": "Python 3 (ipykernel)",
   "language": "python",
   "name": "python3"
  },
  "language_info": {
   "codemirror_mode": {
    "name": "ipython",
    "version": 3
   },
   "file_extension": ".py",
   "mimetype": "text/x-python",
   "name": "python",
   "nbconvert_exporter": "python",
   "pygments_lexer": "ipython3",
   "version": "3.9.7"
  }
 },
 "nbformat": 4,
 "nbformat_minor": 5
}
